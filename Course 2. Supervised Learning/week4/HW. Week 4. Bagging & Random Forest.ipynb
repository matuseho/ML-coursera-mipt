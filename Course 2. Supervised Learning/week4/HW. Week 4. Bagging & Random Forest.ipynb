{
 "cells": [
  {
   "cell_type": "code",
   "execution_count": 33,
   "metadata": {},
   "outputs": [],
   "source": [
    "from sklearn import model_selection, datasets, metrics, tree, ensemble\n",
    "\n",
    "import numpy as np"
   ]
  },
  {
   "cell_type": "code",
   "execution_count": 3,
   "metadata": {},
   "outputs": [],
   "source": [
    "data, target = datasets.load_digits(return_X_y=True)"
   ]
  },
  {
   "cell_type": "code",
   "execution_count": 6,
   "metadata": {},
   "outputs": [
    {
     "data": {
      "text/plain": [
       "array([[ 0.,  0.,  5., ...,  0.,  0.,  0.],\n",
       "       [ 0.,  0.,  0., ..., 10.,  0.,  0.],\n",
       "       [ 0.,  0.,  0., ..., 16.,  9.,  0.],\n",
       "       ...,\n",
       "       [ 0.,  0.,  1., ...,  6.,  0.,  0.],\n",
       "       [ 0.,  0.,  2., ..., 12.,  0.,  0.],\n",
       "       [ 0.,  0., 10., ..., 12.,  1.,  0.]])"
      ]
     },
     "execution_count": 6,
     "metadata": {},
     "output_type": "execute_result"
    }
   ],
   "source": [
    "data"
   ]
  },
  {
   "cell_type": "code",
   "execution_count": null,
   "metadata": {},
   "outputs": [],
   "source": []
  },
  {
   "cell_type": "code",
   "execution_count": 7,
   "metadata": {},
   "outputs": [
    {
     "data": {
      "text/plain": [
       "DecisionTreeClassifier(ccp_alpha=0.0, class_weight=None, criterion='gini',\n",
       "                       max_depth=None, max_features=None, max_leaf_nodes=None,\n",
       "                       min_impurity_decrease=0.0, min_impurity_split=None,\n",
       "                       min_samples_leaf=1, min_samples_split=2,\n",
       "                       min_weight_fraction_leaf=0.0, presort='deprecated',\n",
       "                       random_state=None, splitter='best')"
      ]
     },
     "execution_count": 7,
     "metadata": {},
     "output_type": "execute_result"
    }
   ],
   "source": [
    "# 1\n",
    "model_1 = tree.DecisionTreeClassifier()\n",
    "model_1.fit(data,  target)"
   ]
  },
  {
   "cell_type": "code",
   "execution_count": 32,
   "metadata": {},
   "outputs": [
    {
     "name": "stdout",
     "output_type": "stream",
     "text": [
      "0.8291309745499689\n"
     ]
    }
   ],
   "source": [
    "res1 = model_selection.cross_val_score (model_1, data, target, cv = 10).mean()\n",
    "with open(\"random_forest_hw_1.txt\", \"w\") as fout:\n",
    "        fout.write(str(res1))\n",
    "print (res1)"
   ]
  },
  {
   "cell_type": "code",
   "execution_count": 40,
   "metadata": {},
   "outputs": [
    {
     "name": "stdout",
     "output_type": "stream",
     "text": [
      "0.9231564245810056\n"
     ]
    }
   ],
   "source": [
    "# 2 \n",
    "model_2 = ensemble.BaggingClassifier(base_estimator = tree.DecisionTreeClassifier(), n_estimators = 100)\n",
    "model_2.fit(data,  target)"
   ]
  },
  {
   "cell_type": "code",
   "execution_count": 44,
   "metadata": {},
   "outputs": [
    {
     "name": "stdout",
     "output_type": "stream",
     "text": [
      "0.9214835505896961\n"
     ]
    }
   ],
   "source": [
    "res2 = model_selection.cross_val_score (model_2, data, target, cv = 10).mean()\n",
    "with open(\"random_forest_hw_2.txt\", \"w\") as fout:\n",
    "        fout.write(str(res2))\n",
    "print (res2)"
   ]
  },
  {
   "cell_type": "code",
   "execution_count": 50,
   "metadata": {},
   "outputs": [
    {
     "data": {
      "text/plain": [
       "BaggingClassifier(base_estimator=DecisionTreeClassifier(ccp_alpha=0.0,\n",
       "                                                        class_weight=None,\n",
       "                                                        criterion='gini',\n",
       "                                                        max_depth=None,\n",
       "                                                        max_features=None,\n",
       "                                                        max_leaf_nodes=None,\n",
       "                                                        min_impurity_decrease=0.0,\n",
       "                                                        min_impurity_split=None,\n",
       "                                                        min_samples_leaf=1,\n",
       "                                                        min_samples_split=2,\n",
       "                                                        min_weight_fraction_leaf=0.0,\n",
       "                                                        presort='deprecated',\n",
       "                                                        random_state=None,\n",
       "                                                        splitter='best'),\n",
       "                  bootstrap=True, bootstrap_features=False, max_features=8,\n",
       "                  max_samples=1.0, n_estimators=100, n_jobs=None,\n",
       "                  oob_score=False, random_state=None, verbose=0,\n",
       "                  warm_start=False)"
      ]
     },
     "execution_count": 50,
     "metadata": {},
     "output_type": "execute_result"
    }
   ],
   "source": [
    "# 3\n",
    "model_3 = ensemble.BaggingClassifier(base_estimator = tree.DecisionTreeClassifier(), n_estimators = 100,max_features=int(np.sqrt(data.shape[1])))\n",
    "model_3.fit(data,  target)"
   ]
  },
  {
   "cell_type": "code",
   "execution_count": 52,
   "metadata": {},
   "outputs": [
    {
     "name": "stdout",
     "output_type": "stream",
     "text": [
      "0.9310024829298571\n"
     ]
    }
   ],
   "source": [
    "res3 = model_selection.cross_val_score (model_3, data, target, cv = 10).mean()\n",
    "with open(\"random_forest_hw_3.txt\", \"w\") as fout:\n",
    "        fout.write(str(res3))\n",
    "print (res3)"
   ]
  },
  {
   "cell_type": "code",
   "execution_count": 53,
   "metadata": {},
   "outputs": [
    {
     "data": {
      "text/plain": [
       "BaggingClassifier(base_estimator=DecisionTreeClassifier(ccp_alpha=0.0,\n",
       "                                                        class_weight=None,\n",
       "                                                        criterion='gini',\n",
       "                                                        max_depth=None,\n",
       "                                                        max_features='sqrt',\n",
       "                                                        max_leaf_nodes=None,\n",
       "                                                        min_impurity_decrease=0.0,\n",
       "                                                        min_impurity_split=None,\n",
       "                                                        min_samples_leaf=1,\n",
       "                                                        min_samples_split=2,\n",
       "                                                        min_weight_fraction_leaf=0.0,\n",
       "                                                        presort='deprecated',\n",
       "                                                        random_state=None,\n",
       "                                                        splitter='best'),\n",
       "                  bootstrap=True, bootstrap_features=False, max_features=1.0,\n",
       "                  max_samples=1.0, n_estimators=100, n_jobs=None,\n",
       "                  oob_score=False, random_state=None, verbose=0,\n",
       "                  warm_start=False)"
      ]
     },
     "execution_count": 53,
     "metadata": {},
     "output_type": "execute_result"
    }
   ],
   "source": [
    "# 3\n",
    "model_4 = ensemble.BaggingClassifier(base_estimator = tree.DecisionTreeClassifier(max_features='sqrt'), n_estimators = 100)\n",
    "model_4.fit(data,  target)"
   ]
  },
  {
   "cell_type": "code",
   "execution_count": 54,
   "metadata": {},
   "outputs": [
    {
     "name": "stdout",
     "output_type": "stream",
     "text": [
      "0.9510055865921787\n"
     ]
    }
   ],
   "source": [
    "res4 = model_selection.cross_val_score (model_4, data, target, cv = 10).mean()\n",
    "with open(\"random_forest_hw_4.txt\", \"w\") as fout:\n",
    "        fout.write(str(res4))\n",
    "print (res4)"
   ]
  },
  {
   "cell_type": "code",
   "execution_count": 55,
   "metadata": {},
   "outputs": [
    {
     "data": {
      "text/plain": [
       "RandomForestClassifier(bootstrap=True, ccp_alpha=0.0, class_weight=None,\n",
       "                       criterion='gini', max_depth=None, max_features='auto',\n",
       "                       max_leaf_nodes=None, max_samples=None,\n",
       "                       min_impurity_decrease=0.0, min_impurity_split=None,\n",
       "                       min_samples_leaf=1, min_samples_split=2,\n",
       "                       min_weight_fraction_leaf=0.0, n_estimators=100,\n",
       "                       n_jobs=None, oob_score=False, random_state=None,\n",
       "                       verbose=0, warm_start=False)"
      ]
     },
     "execution_count": 55,
     "metadata": {},
     "output_type": "execute_result"
    }
   ],
   "source": [
    "# 5\n",
    "\n",
    "model_5 = ensemble.RandomForestClassifier()\n",
    "model_5.fit(data,  target)"
   ]
  },
  {
   "cell_type": "code",
   "execution_count": 56,
   "metadata": {},
   "outputs": [
    {
     "name": "stdout",
     "output_type": "stream",
     "text": [
      "0.9465611421477342\n"
     ]
    }
   ],
   "source": [
    "res5 = model_selection.cross_val_score (model_5, data, target, cv = 10).mean()\n",
    "with open(\"random_forest_hw_5.txt\", \"w\") as fout:\n",
    "        fout.write(str(res5))\n",
    "print (res5)"
   ]
  },
  {
   "cell_type": "code",
   "execution_count": 71,
   "metadata": {},
   "outputs": [
    {
     "data": {
      "text/plain": [
       "[0.8864835505896957,\n",
       " 0.9193202979515828,\n",
       " 0.9321135940409683,\n",
       " 0.9398820608317815,\n",
       " 0.9415642458100558,\n",
       " 0.9504748603351955,\n",
       " 0.9499130974549969]"
      ]
     },
     "execution_count": 71,
     "metadata": {},
     "output_type": "execute_result"
    }
   ],
   "source": [
    "num_trees = [5, 10, 15, 25, 50, 100, 200]\n",
    "num_trees\n",
    "res = []\n",
    "for N in num_trees:\n",
    "    model = ensemble.RandomForestClassifier(n_estimators = N)\n",
    "    model.fit(data,  target)\n",
    "    result = model_selection.cross_val_score (model, data, target, cv = 10).mean()\n",
    "    res.append(result)\n",
    "res"
   ]
  },
  {
   "cell_type": "code",
   "execution_count": 72,
   "metadata": {},
   "outputs": [
    {
     "data": {
      "image/png": "[encoded data removed]",
      "text/plain": [
       "<Figure size 360x360 with 1 Axes>"
      ]
     },
     "metadata": {
      "needs_background": "light"
     },
     "output_type": "display_data"
    }
   ],
   "source": [
    "import matplotlib.pyplot as plt\n",
    "plt.figure(figsize=(5, 5))\n",
    "plt.plot(num_trees, res)\n",
    "plt.xlabel(\"n-trees\")\n",
    "plt.ylabel(\"score\")\n",
    "plt.title(\"Trees score dependencies\")\n",
    "plt.show()"
   ]
  },
  {
   "cell_type": "code",
   "execution_count": 76,
   "metadata": {},
   "outputs": [
    {
     "data": {
      "text/plain": [
       "(1797, 64)"
      ]
     },
     "execution_count": 76,
     "metadata": {},
     "output_type": "execute_result"
    }
   ],
   "source": [
    "data.shape"
   ]
  },
  {
   "cell_type": "code",
   "execution_count": 83,
   "metadata": {},
   "outputs": [
    {
     "data": {
      "text/plain": [
       "[0.9482402234636871,\n",
       " 0.9521384233395406,\n",
       " 0.9499037864680322,\n",
       " 0.9409962756052141,\n",
       " 0.9426567349472377,\n",
       " 0.9331905648665424]"
      ]
     },
     "execution_count": 83,
     "metadata": {},
     "output_type": "execute_result"
    }
   ],
   "source": [
    "num_features = [2, 5, 10, 20, 35, 50]\n",
    "res = []\n",
    "for N in num_features:\n",
    "    model = ensemble.RandomForestClassifier(max_features = int(N))\n",
    "    model.fit(data,  target)\n",
    "    result = model_selection.cross_val_score (model, data, target, cv = 10).mean()\n",
    "    res.append(result)\n",
    "res"
   ]
  },
  {
   "cell_type": "code",
   "execution_count": 84,
   "metadata": {},
   "outputs": [
    {
     "data": {
      "image/png": "[encoded data removed]",
      "text/plain": [
       "<Figure size 360x360 with 1 Axes>"
      ]
     },
     "metadata": {
      "needs_background": "light"
     },
     "output_type": "display_data"
    }
   ],
   "source": [
    "plt.figure(figsize=(5, 5))\n",
    "plt.plot(num_features, res)\n",
    "plt.xlabel(\"n-features\")\n",
    "plt.ylabel(\"score\")\n",
    "plt.title(\"Trees score dependencies\")\n",
    "plt.show()"
   ]
  },
  {
   "cell_type": "code",
   "execution_count": null,
   "metadata": {},
   "outputs": [],
   "source": []
  },
  {
   "cell_type": "code",
   "execution_count": 85,
   "metadata": {},
   "outputs": [
    {
     "data": {
      "text/plain": [
       "[0.7089478584729981,\n",
       " 0.792951582867784,\n",
       " 0.9114928615766607,\n",
       " 0.9432309124767224,\n",
       " 0.9493513345747981,\n",
       " 0.951024208566108,\n",
       " 0.9465611421477342,\n",
       " 0.9487957790192427]"
      ]
     },
     "execution_count": 85,
     "metadata": {},
     "output_type": "execute_result"
    }
   ],
   "source": [
    "num_depth = [1, 2, 5, 10, 15, 25, 50, 64]\n",
    "res = []\n",
    "for N in num_depth:\n",
    "    model = ensemble.RandomForestClassifier(max_depth = N)\n",
    "    model.fit(data,  target)\n",
    "    result = model_selection.cross_val_score (model, data, target, cv = 10).mean()\n",
    "    res.append(result)\n",
    "res"
   ]
  },
  {
   "cell_type": "code",
   "execution_count": 86,
   "metadata": {},
   "outputs": [
    {
     "data": {
      "image/png": "[encoded data removed]",
      "text/plain": [
       "<Figure size 360x360 with 1 Axes>"
      ]
     },
     "metadata": {
      "needs_background": "light"
     },
     "output_type": "display_data"
    }
   ],
   "source": [
    "plt.figure(figsize=(5, 5))\n",
    "plt.plot(num_depth, res)\n",
    "plt.xlabel(\"n-depth\")\n",
    "plt.ylabel(\"score\")\n",
    "plt.title(\"Trees score dependencies\")\n",
    "plt.show()"
   ]
  },
  {
   "cell_type": "code",
   "execution_count": 87,
   "metadata": {},
   "outputs": [],
   "source": [
    "with open(\"random_forest_hw_5.txt\", \"w\") as fout:\n",
    "        fout.write(str('2 3 4 7'))"
   ]
  }
 ],
 "metadata": {
  "kernelspec": {
   "display_name": "Python 3",
   "language": "python",
   "name": "python3"
  },
  "language_info": {
   "codemirror_mode": {
    "name": "ipython",
    "version": 3
   },
   "file_extension": ".py",
   "mimetype": "text/x-python",
   "name": "python",
   "nbconvert_exporter": "python",
   "pygments_lexer": "ipython3",
   "version": "3.7.6"
  }
 },
 "nbformat": 4,
 "nbformat_minor": 4
}
